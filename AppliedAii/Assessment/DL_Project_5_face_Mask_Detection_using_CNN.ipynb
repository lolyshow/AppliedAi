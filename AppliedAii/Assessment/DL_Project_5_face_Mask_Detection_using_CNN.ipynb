{
 "cells": [
  {
   "cell_type": "markdown",
   "metadata": {
    "id": "MKIrkEC5zrjA"
   },
   "source": [
    "### Importing the Libraries"
   ]
  },
  {
   "cell_type": "code",
   "execution_count": 1,
   "metadata": {
    "id": "yEUQCcZPzlfo"
   },
   "outputs": [],
   "source": [
    "import os\n",
    "import numpy as np\n",
    "import matplotlib.pyplot as plt\n",
    "import matplotlib.image as mpimg\n",
    "import cv2\n",
    "from PIL import Image\n",
    "from sklearn.model_selection import train_test_split"
   ]
  },
  {
   "cell_type": "code",
   "execution_count": 2,
   "metadata": {
    "colab": {
     "base_uri": "https://localhost:8080/"
    },
    "id": "i4xGbBHq0PSo",
    "outputId": "7ce6c5c7-4649-4ab2-decd-c60386583c98"
   },
   "outputs": [
    {
     "name": "stdout",
     "output_type": "stream",
     "text": [
      "['1409.jpg', '0515.png', '0930.jpg', '0273.jpg', '0267.jpg']\n",
      "['1558.png', '0097.png', '1160.jpg', '0040.jpg', '0726.jpg']\n"
     ]
    }
   ],
   "source": [
    "with_mask_files = os.listdir('./Face_Mask_Dataset/Train/WithMask/')\n",
    "print(with_mask_files[0:5])\n",
    "print(with_mask_files[-5:])"
   ]
  },
  {
   "cell_type": "code",
   "execution_count": 3,
   "metadata": {
    "colab": {
     "base_uri": "https://localhost:8080/"
    },
    "id": "K_q6sypb0mqK",
    "outputId": "91373350-71bb-4e10-ee48-f0e08306d8ef"
   },
   "outputs": [
    {
     "name": "stdout",
     "output_type": "stream",
     "text": [
      "['63.jpg', '77.jpg', '162.jpg', '176.jpg', '88.jpg']\n",
      "['153.jpg', '52.jpg', '0.jpg', '46.jpg', '184.jpg']\n"
     ]
    }
   ],
   "source": [
    "without_mask_files = os.listdir('./Face_Mask_Dataset/Train/WithoutMask/')\n",
    "print(without_mask_files[0:5])\n",
    "print(without_mask_files[-5:])"
   ]
  },
  {
   "cell_type": "code",
   "execution_count": 4,
   "metadata": {
    "colab": {
     "base_uri": "https://localhost:8080/"
    },
    "id": "o5s8Mk350yqo",
    "outputId": "4419b89c-bea3-4c15-919a-490415b22f7c"
   },
   "outputs": [
    {
     "name": "stdout",
     "output_type": "stream",
     "text": [
      "Number of with mask images: 300\n",
      "Number of without mask images: 300\n"
     ]
    }
   ],
   "source": [
    "print('Number of with mask images:', len(with_mask_files))\n",
    "print('Number of without mask images:', len(without_mask_files))"
   ]
  },
  {
   "cell_type": "markdown",
   "metadata": {
    "id": "fIEifMkE1Vr8"
   },
   "source": [
    "**Creating Labels for the two class of Images**"
   ]
  },
  {
   "cell_type": "markdown",
   "metadata": {
    "id": "VDqdbJ4I1c9z"
   },
   "source": [
    "with mask  -->  1\n",
    "\n",
    "without mask  -->  0"
   ]
  },
  {
   "cell_type": "code",
   "execution_count": 5,
   "metadata": {
    "id": "M2EK-RtI1FUS"
   },
   "outputs": [],
   "source": [
    "# create the labels\n",
    "\n",
    "with_mask_labels = [1]*300\n",
    "\n",
    "without_mask_labels = [0]*300"
   ]
  },
  {
   "cell_type": "code",
   "execution_count": 6,
   "metadata": {
    "colab": {
     "base_uri": "https://localhost:8080/"
    },
    "id": "xJTydgcb13Bc",
    "outputId": "819a92ba-22ab-4204-cc98-f5daafb5d70a"
   },
   "outputs": [
    {
     "name": "stdout",
     "output_type": "stream",
     "text": [
      "[1, 1, 1, 1, 1]\n",
      "[0, 0, 0, 0, 0]\n"
     ]
    }
   ],
   "source": [
    "print(with_mask_labels[0:5])\n",
    "\n",
    "print(without_mask_labels[0:5])"
   ]
  },
  {
   "cell_type": "code",
   "execution_count": 7,
   "metadata": {
    "colab": {
     "base_uri": "https://localhost:8080/"
    },
    "id": "OrIbqLhV193_",
    "outputId": "ba57d85a-1ed7-4693-bfea-a61672d9fe1f"
   },
   "outputs": [
    {
     "name": "stdout",
     "output_type": "stream",
     "text": [
      "300\n",
      "300\n"
     ]
    }
   ],
   "source": [
    "print(len(with_mask_labels))\n",
    "print(len(without_mask_labels))"
   ]
  },
  {
   "cell_type": "code",
   "execution_count": 8,
   "metadata": {
    "colab": {
     "base_uri": "https://localhost:8080/"
    },
    "id": "i7H-OSqA2HZ-",
    "outputId": "74cfb1ac-3564-44ca-aa81-126834ff72bd"
   },
   "outputs": [
    {
     "name": "stdout",
     "output_type": "stream",
     "text": [
      "600\n",
      "[1, 1, 1, 1, 1]\n",
      "[0, 0, 0, 0, 0]\n"
     ]
    }
   ],
   "source": [
    "labels = with_mask_labels + without_mask_labels\n",
    "\n",
    "print(len(labels))\n",
    "print(labels[0:5])\n",
    "print(labels[-5:])"
   ]
  },
  {
   "cell_type": "markdown",
   "metadata": {
    "id": "4OZz81JJ2d_r"
   },
   "source": [
    "**Displaying the Images**"
   ]
  },
  {
   "cell_type": "code",
   "execution_count": 9,
   "metadata": {
    "colab": {
     "base_uri": "https://localhost:8080/",
     "height": 269
    },
    "id": "QI7jBEJ02VQ9",
    "outputId": "3ee10067-33a7-4237-8272-ab78aadb1eeb"
   },
   "outputs": [],
   "source": [
    "# # displaying with mask image\n",
    "# img = mpimg.imread('/content/data/with_mask/with_mask_1545.jpg')\n",
    "# imgplot = plt.imshow(img)\n",
    "# plt.show()"
   ]
  },
  {
   "cell_type": "code",
   "execution_count": 10,
   "metadata": {
    "colab": {
     "base_uri": "https://localhost:8080/",
     "height": 269
    },
    "id": "wwbhVmkr28rh",
    "outputId": "87174afd-fb04-4307-d18a-755b39c75b50"
   },
   "outputs": [],
   "source": [
    "# # displaying without mask image\n",
    "# img = mpimg.imread('/content/data/without_mask/without_mask_2925.jpg')\n",
    "# imgplot = plt.imshow(img)\n",
    "# plt.show()"
   ]
  },
  {
   "cell_type": "markdown",
   "metadata": {
    "id": "r6Q8CJBH3V21"
   },
   "source": [
    "**Image Processing**"
   ]
  },
  {
   "cell_type": "markdown",
   "metadata": {
    "id": "faTbplf63ZXB"
   },
   "source": [
    "1. Resize the Images\n",
    "\n",
    "2. Convert the images to numpy arrays"
   ]
  },
  {
   "cell_type": "code",
   "execution_count": 11,
   "metadata": {
    "colab": {
     "base_uri": "https://localhost:8080/"
    },
    "id": "GjR7Vmg73MMj",
    "outputId": "1e3b59ec-25ac-438f-c66e-0c83ede8b762"
   },
   "outputs": [],
   "source": [
    "# convert images to numpy arrays+\n",
    "\n",
    "with_mask_path = './Face_Mask_Dataset/Train/WithMask/'\n",
    "\n",
    "data = []\n",
    "\n",
    "for img_file in with_mask_files:\n",
    "    image = Image.open(with_mask_path + img_file)\n",
    "    image = image.resize((128,128))\n",
    "    image = image.convert('RGB')\n",
    "    image = np.array(image)\n",
    "    data.append(image)\n",
    "\n",
    "\n",
    "\n",
    "without_mask_path = './Face_Mask_Dataset/Train/WithoutMask/'\n",
    "\n",
    "\n",
    "for img_file in without_mask_files:\n",
    "\n",
    "    image = Image.open(without_mask_path + img_file)\n",
    "    image = image.resize((128,128))\n",
    "    image = image.convert('RGB')\n",
    "    image = np.array(image)\n",
    "    data.append(image)"
   ]
  },
  {
   "cell_type": "code",
   "execution_count": 12,
   "metadata": {
    "colab": {
     "base_uri": "https://localhost:8080/"
    },
    "id": "kL1ETkSK6Sxu",
    "outputId": "2ae650e0-a151-445b-bbd7-733999bf7825"
   },
   "outputs": [
    {
     "data": {
      "text/plain": [
       "list"
      ]
     },
     "execution_count": 12,
     "metadata": {},
     "output_type": "execute_result"
    }
   ],
   "source": [
    "type(data)"
   ]
  },
  {
   "cell_type": "code",
   "execution_count": 13,
   "metadata": {
    "colab": {
     "base_uri": "https://localhost:8080/"
    },
    "id": "dpgz_u2-6eQo",
    "outputId": "9d5e711c-d82d-47cb-b185-a0dbc0a801de"
   },
   "outputs": [
    {
     "data": {
      "text/plain": [
       "600"
      ]
     },
     "execution_count": 13,
     "metadata": {},
     "output_type": "execute_result"
    }
   ],
   "source": [
    "len(data)"
   ]
  },
  {
   "cell_type": "code",
   "execution_count": 14,
   "metadata": {
    "colab": {
     "base_uri": "https://localhost:8080/"
    },
    "id": "4uD6dF1v6fsg",
    "outputId": "37ac00ed-fd70-4b7e-d42a-5d47b5f31c9b"
   },
   "outputs": [
    {
     "data": {
      "text/plain": [
       "array([[[ 0,  0,  0],\n",
       "        [ 0,  0,  0],\n",
       "        [ 0,  0,  0],\n",
       "        ...,\n",
       "        [46, 57, 76],\n",
       "        [46, 57, 77],\n",
       "        [44, 57, 77]],\n",
       "\n",
       "       [[ 0,  0,  0],\n",
       "        [ 0,  0,  0],\n",
       "        [ 0,  0,  0],\n",
       "        ...,\n",
       "        [44, 55, 74],\n",
       "        [45, 56, 76],\n",
       "        [45, 56, 78]],\n",
       "\n",
       "       [[ 0,  0,  0],\n",
       "        [ 0,  0,  0],\n",
       "        [ 0,  0,  0],\n",
       "        ...,\n",
       "        [44, 55, 75],\n",
       "        [44, 55, 76],\n",
       "        [44, 55, 75]],\n",
       "\n",
       "       ...,\n",
       "\n",
       "       [[ 2,  1,  7],\n",
       "        [ 2,  1,  7],\n",
       "        [ 2,  1,  6],\n",
       "        ...,\n",
       "        [ 0,  0,  0],\n",
       "        [ 0,  0,  0],\n",
       "        [ 0,  0,  0]],\n",
       "\n",
       "       [[ 2,  1,  7],\n",
       "        [ 2,  1,  7],\n",
       "        [ 2,  1,  8],\n",
       "        ...,\n",
       "        [ 0,  0,  0],\n",
       "        [ 0,  0,  0],\n",
       "        [ 0,  0,  0]],\n",
       "\n",
       "       [[ 2,  1,  7],\n",
       "        [ 2,  1,  7],\n",
       "        [ 2,  1,  7],\n",
       "        ...,\n",
       "        [ 0,  0,  0],\n",
       "        [ 0,  0,  0],\n",
       "        [ 0,  0,  0]]], dtype=uint8)"
      ]
     },
     "execution_count": 14,
     "metadata": {},
     "output_type": "execute_result"
    }
   ],
   "source": [
    "data[0]"
   ]
  },
  {
   "cell_type": "code",
   "execution_count": 15,
   "metadata": {
    "colab": {
     "base_uri": "https://localhost:8080/"
    },
    "id": "HIyzW_yZ6k6m",
    "outputId": "29418ac4-0384-4f44-aefb-4b82fe71918e"
   },
   "outputs": [
    {
     "data": {
      "text/plain": [
       "numpy.ndarray"
      ]
     },
     "execution_count": 15,
     "metadata": {},
     "output_type": "execute_result"
    }
   ],
   "source": [
    "type(data[0])"
   ]
  },
  {
   "cell_type": "code",
   "execution_count": 16,
   "metadata": {
    "colab": {
     "base_uri": "https://localhost:8080/"
    },
    "id": "iXoDEYCe6uhn",
    "outputId": "4455d918-e902-4d51-c4e2-ff0cd46c70a1"
   },
   "outputs": [
    {
     "data": {
      "text/plain": [
       "(128, 128, 3)"
      ]
     },
     "execution_count": 16,
     "metadata": {},
     "output_type": "execute_result"
    }
   ],
   "source": [
    "data[0].shape"
   ]
  },
  {
   "cell_type": "code",
   "execution_count": 17,
   "metadata": {
    "id": "U8pYcWO16xqb"
   },
   "outputs": [],
   "source": [
    "# converting image list and label list to numpy arrays\n",
    "\n",
    "X = np.array(data)\n",
    "Y = np.array(labels)"
   ]
  },
  {
   "cell_type": "code",
   "execution_count": 18,
   "metadata": {
    "colab": {
     "base_uri": "https://localhost:8080/"
    },
    "id": "nOJumzSg7JD4",
    "outputId": "53182cd0-5d84-4187-c614-7f913830d4c1"
   },
   "outputs": [
    {
     "data": {
      "text/plain": [
       "numpy.ndarray"
      ]
     },
     "execution_count": 18,
     "metadata": {},
     "output_type": "execute_result"
    }
   ],
   "source": [
    "type(X)"
   ]
  },
  {
   "cell_type": "code",
   "execution_count": 19,
   "metadata": {
    "colab": {
     "base_uri": "https://localhost:8080/"
    },
    "id": "uSvCqSFv7J-7",
    "outputId": "71ec93a0-7e80-48b3-b072-53f756eb442a"
   },
   "outputs": [
    {
     "data": {
      "text/plain": [
       "numpy.ndarray"
      ]
     },
     "execution_count": 19,
     "metadata": {},
     "output_type": "execute_result"
    }
   ],
   "source": [
    "type(Y)"
   ]
  },
  {
   "cell_type": "code",
   "execution_count": 20,
   "metadata": {
    "colab": {
     "base_uri": "https://localhost:8080/"
    },
    "id": "CFcmRmnx7Ns2",
    "outputId": "1796217d-19dd-49f7-a2e8-49db47c1367c"
   },
   "outputs": [
    {
     "name": "stdout",
     "output_type": "stream",
     "text": [
      "(600, 128, 128, 3)\n",
      "(600,)\n"
     ]
    }
   ],
   "source": [
    "print(X.shape)\n",
    "print(Y.shape)"
   ]
  },
  {
   "cell_type": "code",
   "execution_count": 21,
   "metadata": {
    "colab": {
     "base_uri": "https://localhost:8080/"
    },
    "id": "LB1Rap2X7R98",
    "outputId": "00b35817-ccb1-4870-ad3c-4b22f9d8c340"
   },
   "outputs": [
    {
     "name": "stdout",
     "output_type": "stream",
     "text": [
      "[1 1 1 1 1 1 1 1 1 1 1 1 1 1 1 1 1 1 1 1 1 1 1 1 1 1 1 1 1 1 1 1 1 1 1 1 1\n",
      " 1 1 1 1 1 1 1 1 1 1 1 1 1 1 1 1 1 1 1 1 1 1 1 1 1 1 1 1 1 1 1 1 1 1 1 1 1\n",
      " 1 1 1 1 1 1 1 1 1 1 1 1 1 1 1 1 1 1 1 1 1 1 1 1 1 1 1 1 1 1 1 1 1 1 1 1 1\n",
      " 1 1 1 1 1 1 1 1 1 1 1 1 1 1 1 1 1 1 1 1 1 1 1 1 1 1 1 1 1 1 1 1 1 1 1 1 1\n",
      " 1 1 1 1 1 1 1 1 1 1 1 1 1 1 1 1 1 1 1 1 1 1 1 1 1 1 1 1 1 1 1 1 1 1 1 1 1\n",
      " 1 1 1 1 1 1 1 1 1 1 1 1 1 1 1 1 1 1 1 1 1 1 1 1 1 1 1 1 1 1 1 1 1 1 1 1 1\n",
      " 1 1 1 1 1 1 1 1 1 1 1 1 1 1 1 1 1 1 1 1 1 1 1 1 1 1 1 1 1 1 1 1 1 1 1 1 1\n",
      " 1 1 1 1 1 1 1 1 1 1 1 1 1 1 1 1 1 1 1 1 1 1 1 1 1 1 1 1 1 1 1 1 1 1 1 1 1\n",
      " 1 1 1 1 0 0 0 0 0 0 0 0 0 0 0 0 0 0 0 0 0 0 0 0 0 0 0 0 0 0 0 0 0 0 0 0 0\n",
      " 0 0 0 0 0 0 0 0 0 0 0 0 0 0 0 0 0 0 0 0 0 0 0 0 0 0 0 0 0 0 0 0 0 0 0 0 0\n",
      " 0 0 0 0 0 0 0 0 0 0 0 0 0 0 0 0 0 0 0 0 0 0 0 0 0 0 0 0 0 0 0 0 0 0 0 0 0\n",
      " 0 0 0 0 0 0 0 0 0 0 0 0 0 0 0 0 0 0 0 0 0 0 0 0 0 0 0 0 0 0 0 0 0 0 0 0 0\n",
      " 0 0 0 0 0 0 0 0 0 0 0 0 0 0 0 0 0 0 0 0 0 0 0 0 0 0 0 0 0 0 0 0 0 0 0 0 0\n",
      " 0 0 0 0 0 0 0 0 0 0 0 0 0 0 0 0 0 0 0 0 0 0 0 0 0 0 0 0 0 0 0 0 0 0 0 0 0\n",
      " 0 0 0 0 0 0 0 0 0 0 0 0 0 0 0 0 0 0 0 0 0 0 0 0 0 0 0 0 0 0 0 0 0 0 0 0 0\n",
      " 0 0 0 0 0 0 0 0 0 0 0 0 0 0 0 0 0 0 0 0 0 0 0 0 0 0 0 0 0 0 0 0 0 0 0 0 0\n",
      " 0 0 0 0 0 0 0 0]\n"
     ]
    }
   ],
   "source": [
    "print(Y)"
   ]
  },
  {
   "cell_type": "markdown",
   "metadata": {
    "id": "IZuq8fdc7e9x"
   },
   "source": [
    "**Train Test Split**"
   ]
  },
  {
   "cell_type": "code",
   "execution_count": 22,
   "metadata": {
    "id": "217vrhiO7c20"
   },
   "outputs": [],
   "source": [
    "X_train, X_test, Y_train, Y_test = train_test_split(X, Y, test_size=0.2, random_state=42)"
   ]
  },
  {
   "cell_type": "code",
   "execution_count": 23,
   "metadata": {
    "colab": {
     "base_uri": "https://localhost:8080/"
    },
    "id": "uCqTqdAB72zJ",
    "outputId": "f90c2369-7749-41b9-e6b8-0f9930171856"
   },
   "outputs": [
    {
     "name": "stdout",
     "output_type": "stream",
     "text": [
      "(600, 128, 128, 3) (480, 128, 128, 3) (120, 128, 128, 3)\n"
     ]
    }
   ],
   "source": [
    "print(X.shape, X_train.shape, X_test.shape)"
   ]
  },
  {
   "cell_type": "code",
   "execution_count": 24,
   "metadata": {
    "id": "tQ8cYmhL76lZ"
   },
   "outputs": [],
   "source": [
    "# scaling the data\n",
    "\n",
    "X_train_scaled = X_train/255\n",
    "\n",
    "X_test_scaled = X_test/255"
   ]
  },
  {
   "cell_type": "code",
   "execution_count": 25,
   "metadata": {
    "colab": {
     "base_uri": "https://localhost:8080/"
    },
    "id": "yMjyiUVH8FeB",
    "outputId": "9eadbb14-a5dd-4b0f-ef18-5361aab1739d"
   },
   "outputs": [
    {
     "data": {
      "text/plain": [
       "array([[[ 8,  5,  1],\n",
       "        [ 4,  3,  1],\n",
       "        [ 3,  2,  0],\n",
       "        ...,\n",
       "        [16, 10,  6],\n",
       "        [13,  9,  5],\n",
       "        [11,  7,  4]],\n",
       "\n",
       "       [[ 8,  5,  1],\n",
       "        [ 3,  2,  0],\n",
       "        [ 2,  2,  1],\n",
       "        ...,\n",
       "        [17, 11,  7],\n",
       "        [14, 10,  5],\n",
       "        [12,  8,  3]],\n",
       "\n",
       "       [[ 8,  5,  1],\n",
       "        [ 3,  2,  0],\n",
       "        [ 2,  1,  1],\n",
       "        ...,\n",
       "        [18, 13,  7],\n",
       "        [15, 10,  4],\n",
       "        [13,  8,  4]],\n",
       "\n",
       "       ...,\n",
       "\n",
       "       [[ 9,  4,  1],\n",
       "        [ 9,  4,  1],\n",
       "        [ 7,  3,  0],\n",
       "        ...,\n",
       "        [ 3,  2,  0],\n",
       "        [ 3,  2,  0],\n",
       "        [ 4,  3,  1]],\n",
       "\n",
       "       [[ 8,  4,  1],\n",
       "        [ 8,  5,  0],\n",
       "        [ 7,  3,  0],\n",
       "        ...,\n",
       "        [ 3,  2,  0],\n",
       "        [ 3,  2,  0],\n",
       "        [ 4,  3,  1]],\n",
       "\n",
       "       [[ 7,  3,  0],\n",
       "        [ 9,  5,  0],\n",
       "        [ 8,  4,  0],\n",
       "        ...,\n",
       "        [ 3,  2,  1],\n",
       "        [ 3,  2,  0],\n",
       "        [ 3,  2,  0]]], dtype=uint8)"
      ]
     },
     "execution_count": 25,
     "metadata": {},
     "output_type": "execute_result"
    }
   ],
   "source": [
    "X_train[0]"
   ]
  },
  {
   "cell_type": "code",
   "execution_count": 26,
   "metadata": {
    "colab": {
     "base_uri": "https://localhost:8080/"
    },
    "id": "V0cVGoJU8pWv",
    "outputId": "40713563-2a46-4cad-9c96-9d4e7a3dcce2"
   },
   "outputs": [
    {
     "data": {
      "text/plain": [
       "array([[[0.03137255, 0.01960784, 0.00392157],\n",
       "        [0.01568627, 0.01176471, 0.00392157],\n",
       "        [0.01176471, 0.00784314, 0.        ],\n",
       "        ...,\n",
       "        [0.0627451 , 0.03921569, 0.02352941],\n",
       "        [0.05098039, 0.03529412, 0.01960784],\n",
       "        [0.04313725, 0.02745098, 0.01568627]],\n",
       "\n",
       "       [[0.03137255, 0.01960784, 0.00392157],\n",
       "        [0.01176471, 0.00784314, 0.        ],\n",
       "        [0.00784314, 0.00784314, 0.00392157],\n",
       "        ...,\n",
       "        [0.06666667, 0.04313725, 0.02745098],\n",
       "        [0.05490196, 0.03921569, 0.01960784],\n",
       "        [0.04705882, 0.03137255, 0.01176471]],\n",
       "\n",
       "       [[0.03137255, 0.01960784, 0.00392157],\n",
       "        [0.01176471, 0.00784314, 0.        ],\n",
       "        [0.00784314, 0.00392157, 0.00392157],\n",
       "        ...,\n",
       "        [0.07058824, 0.05098039, 0.02745098],\n",
       "        [0.05882353, 0.03921569, 0.01568627],\n",
       "        [0.05098039, 0.03137255, 0.01568627]],\n",
       "\n",
       "       ...,\n",
       "\n",
       "       [[0.03529412, 0.01568627, 0.00392157],\n",
       "        [0.03529412, 0.01568627, 0.00392157],\n",
       "        [0.02745098, 0.01176471, 0.        ],\n",
       "        ...,\n",
       "        [0.01176471, 0.00784314, 0.        ],\n",
       "        [0.01176471, 0.00784314, 0.        ],\n",
       "        [0.01568627, 0.01176471, 0.00392157]],\n",
       "\n",
       "       [[0.03137255, 0.01568627, 0.00392157],\n",
       "        [0.03137255, 0.01960784, 0.        ],\n",
       "        [0.02745098, 0.01176471, 0.        ],\n",
       "        ...,\n",
       "        [0.01176471, 0.00784314, 0.        ],\n",
       "        [0.01176471, 0.00784314, 0.        ],\n",
       "        [0.01568627, 0.01176471, 0.00392157]],\n",
       "\n",
       "       [[0.02745098, 0.01176471, 0.        ],\n",
       "        [0.03529412, 0.01960784, 0.        ],\n",
       "        [0.03137255, 0.01568627, 0.        ],\n",
       "        ...,\n",
       "        [0.01176471, 0.00784314, 0.00392157],\n",
       "        [0.01176471, 0.00784314, 0.        ],\n",
       "        [0.01176471, 0.00784314, 0.        ]]])"
      ]
     },
     "execution_count": 26,
     "metadata": {},
     "output_type": "execute_result"
    }
   ],
   "source": [
    "X_train_scaled[0]"
   ]
  },
  {
   "cell_type": "markdown",
   "metadata": {
    "id": "L5I-8fUA80iS"
   },
   "source": [
    "**Building a Convolutional Neural Networks (CNN)**"
   ]
  },
  {
   "cell_type": "code",
   "execution_count": 27,
   "metadata": {
    "id": "P0NZPpoQ8tZm"
   },
   "outputs": [
    {
     "name": "stderr",
     "output_type": "stream",
     "text": [
      "2023-08-22 13:06:05.495332: I tensorflow/core/platform/cpu_feature_guard.cc:182] This TensorFlow binary is optimized to use available CPU instructions in performance-critical operations.\n",
      "To enable the following instructions: AVX2 FMA, in other operations, rebuild TensorFlow with the appropriate compiler flags.\n"
     ]
    }
   ],
   "source": [
    "import tensorflow as tf\n",
    "from tensorflow import keras"
   ]
  },
  {
   "cell_type": "code",
   "execution_count": 28,
   "metadata": {
    "id": "OA9eSj2_9EMl"
   },
   "outputs": [],
   "source": [
    "num_of_classes = 2\n",
    "\n",
    "model = keras.Sequential()\n",
    "\n",
    "model.add(keras.layers.Conv2D(32, kernel_size=(3,3), activation='relu', input_shape=(128,128,3)))\n",
    "model.add(keras.layers.MaxPooling2D(pool_size=(2,2)))\n",
    "\n",
    "\n",
    "model.add(keras.layers.Conv2D(64, kernel_size=(3,3), activation='relu'))\n",
    "model.add(keras.layers.MaxPooling2D(pool_size=(2,2)))\n",
    "\n",
    "model.add(keras.layers.Flatten())\n",
    "\n",
    "model.add(keras.layers.Dense(128, activation='relu'))\n",
    "model.add(keras.layers.Dropout(0.5))\n",
    "\n",
    "model.add(keras.layers.Dense(64, activation='relu'))\n",
    "model.add(keras.layers.Dropout(0.5))\n",
    "\n",
    "\n",
    "model.add(keras.layers.Dense(num_of_classes, activation='sigmoid'))"
   ]
  },
  {
   "cell_type": "code",
   "execution_count": 29,
   "metadata": {
    "id": "8PS9_gb0_1F3"
   },
   "outputs": [],
   "source": [
    "# compile the neural network\n",
    "model.compile(optimizer='adam',\n",
    "              loss='sparse_categorical_crossentropy',\n",
    "              metrics=['acc'])"
   ]
  },
  {
   "cell_type": "code",
   "execution_count": 30,
   "metadata": {
    "colab": {
     "base_uri": "https://localhost:8080/"
    },
    "id": "gxbjDZaLAFdS",
    "outputId": "574fa5ba-6dc2-4c92-e80b-9f50e20a2e1c"
   },
   "outputs": [
    {
     "name": "stdout",
     "output_type": "stream",
     "text": [
      "Epoch 1/5\n",
      "14/14 [==============================] - 7s 411ms/step - loss: 0.9285 - acc: 0.5347 - val_loss: 0.6108 - val_acc: 0.5625\n",
      "Epoch 2/5\n",
      "14/14 [==============================] - 6s 398ms/step - loss: 0.4842 - acc: 0.7847 - val_loss: 0.4398 - val_acc: 0.8125\n",
      "Epoch 3/5\n",
      "14/14 [==============================] - 5s 390ms/step - loss: 0.3777 - acc: 0.8704 - val_loss: 0.3938 - val_acc: 0.8750\n",
      "Epoch 4/5\n",
      "14/14 [==============================] - 6s 405ms/step - loss: 0.2925 - acc: 0.8889 - val_loss: 0.4254 - val_acc: 0.8542\n",
      "Epoch 5/5\n",
      "14/14 [==============================] - 7s 514ms/step - loss: 0.2408 - acc: 0.8935 - val_loss: 0.3819 - val_acc: 0.8542\n"
     ]
    }
   ],
   "source": [
    "# training the neural network\n",
    "history = model.fit(X_train_scaled, Y_train, validation_split=0.1, epochs=5)"
   ]
  },
  {
   "cell_type": "markdown",
   "metadata": {
    "id": "M7FVqeVIAyLK"
   },
   "source": [
    "**Model Evaluation**"
   ]
  },
  {
   "cell_type": "code",
   "execution_count": 31,
   "metadata": {
    "colab": {
     "base_uri": "https://localhost:8080/"
    },
    "id": "_IXu88q_AVo_",
    "outputId": "838d3c18-d02f-4715-aaaf-cd9409027a3d"
   },
   "outputs": [
    {
     "name": "stdout",
     "output_type": "stream",
     "text": [
      "4/4 [==============================] - 1s 121ms/step - loss: 0.2191 - acc: 0.9500\n",
      "Test Accuracy = 0.949999988079071\n"
     ]
    }
   ],
   "source": [
    "loss, accuracy = model.evaluate(X_test_scaled, Y_test)\n",
    "print('Test Accuracy =', accuracy)"
   ]
  },
  {
   "cell_type": "code",
   "execution_count": 32,
   "metadata": {
    "colab": {
     "base_uri": "https://localhost:8080/",
     "height": 515
    },
    "id": "Qbk5iRtEA_xZ",
    "outputId": "5791e0be-c2d2-40ec-c2f7-c8e488431888"
   },
   "outputs": [
    {
     "data": {
      "image/png": "[encoded data removed]",
      "text/plain": [
       "<Figure size 640x480 with 1 Axes>"
      ]
     },
     "metadata": {},
     "output_type": "display_data"
    },
    {
     "data": {
      "image/png": "[encoded data removed]",
      "text/plain": [
       "<Figure size 640x480 with 1 Axes>"
      ]
     },
     "metadata": {},
     "output_type": "display_data"
    }
   ],
   "source": [
    "h = history\n",
    "\n",
    "# plot the loss value\n",
    "plt.plot(h.history['loss'], label='train loss')\n",
    "plt.plot(h.history['val_loss'], label='validation loss')\n",
    "plt.legend()\n",
    "plt.show()\n",
    "\n",
    "# plot the accuracy value\n",
    "plt.plot(h.history['acc'], label='train accuracy')\n",
    "plt.plot(h.history['val_acc'], label='validation accuracy')\n",
    "plt.legend()\n",
    "plt.show()"
   ]
  },
  {
   "cell_type": "markdown",
   "metadata": {
    "id": "uWvPB4q2ByT3"
   },
   "source": [
    "**Predictive System**"
   ]
  },
  {
   "cell_type": "code",
   "execution_count": 33,
   "metadata": {
    "colab": {
     "base_uri": "https://localhost:8080/",
     "height": 531
    },
    "id": "lQNyqxFeBi3c",
    "outputId": "38361378-2d5f-4461-dc5e-cafb463b3ee0"
   },
   "outputs": [
    {
     "ename": "KeyboardInterrupt",
     "evalue": "Interrupted by user",
     "output_type": "error",
     "traceback": [
      "\u001b[0;31m---------------------------------------------------------------------------\u001b[0m",
      "\u001b[0;31mKeyboardInterrupt\u001b[0m                         Traceback (most recent call last)",
      "Cell \u001b[0;32mIn[33], line 1\u001b[0m\n\u001b[0;32m----> 1\u001b[0m input_image_path \u001b[38;5;241m=\u001b[39m \u001b[38;5;28;43minput\u001b[39;49m\u001b[43m(\u001b[49m\u001b[38;5;124;43m'\u001b[39;49m\u001b[38;5;124;43mPath of the image to be predicted: \u001b[39;49m\u001b[38;5;124;43m'\u001b[39;49m\u001b[43m)\u001b[49m\n\u001b[1;32m      3\u001b[0m input_image \u001b[38;5;241m=\u001b[39m cv2\u001b[38;5;241m.\u001b[39mimread(input_image_path)\n\u001b[1;32m      5\u001b[0m cv2_imshow(input_image)\n",
      "File \u001b[0;32m/usr/local/Cellar/jupyterlab/3.4.8_1/libexec/lib/python3.11/site-packages/ipykernel/kernelbase.py:1177\u001b[0m, in \u001b[0;36mKernel.raw_input\u001b[0;34m(self, prompt)\u001b[0m\n\u001b[1;32m   1173\u001b[0m \u001b[38;5;28;01mif\u001b[39;00m \u001b[38;5;129;01mnot\u001b[39;00m \u001b[38;5;28mself\u001b[39m\u001b[38;5;241m.\u001b[39m_allow_stdin:\n\u001b[1;32m   1174\u001b[0m     \u001b[38;5;28;01mraise\u001b[39;00m StdinNotImplementedError(\n\u001b[1;32m   1175\u001b[0m         \u001b[38;5;124m\"\u001b[39m\u001b[38;5;124mraw_input was called, but this frontend does not support input requests.\u001b[39m\u001b[38;5;124m\"\u001b[39m\n\u001b[1;32m   1176\u001b[0m     )\n\u001b[0;32m-> 1177\u001b[0m \u001b[38;5;28;01mreturn\u001b[39;00m \u001b[38;5;28;43mself\u001b[39;49m\u001b[38;5;241;43m.\u001b[39;49m\u001b[43m_input_request\u001b[49m\u001b[43m(\u001b[49m\n\u001b[1;32m   1178\u001b[0m \u001b[43m    \u001b[49m\u001b[38;5;28;43mstr\u001b[39;49m\u001b[43m(\u001b[49m\u001b[43mprompt\u001b[49m\u001b[43m)\u001b[49m\u001b[43m,\u001b[49m\n\u001b[1;32m   1179\u001b[0m \u001b[43m    \u001b[49m\u001b[38;5;28;43mself\u001b[39;49m\u001b[38;5;241;43m.\u001b[39;49m\u001b[43m_parent_ident\u001b[49m\u001b[43m[\u001b[49m\u001b[38;5;124;43m\"\u001b[39;49m\u001b[38;5;124;43mshell\u001b[39;49m\u001b[38;5;124;43m\"\u001b[39;49m\u001b[43m]\u001b[49m\u001b[43m,\u001b[49m\n\u001b[1;32m   1180\u001b[0m \u001b[43m    \u001b[49m\u001b[38;5;28;43mself\u001b[39;49m\u001b[38;5;241;43m.\u001b[39;49m\u001b[43mget_parent\u001b[49m\u001b[43m(\u001b[49m\u001b[38;5;124;43m\"\u001b[39;49m\u001b[38;5;124;43mshell\u001b[39;49m\u001b[38;5;124;43m\"\u001b[39;49m\u001b[43m)\u001b[49m\u001b[43m,\u001b[49m\n\u001b[1;32m   1181\u001b[0m \u001b[43m    \u001b[49m\u001b[43mpassword\u001b[49m\u001b[38;5;241;43m=\u001b[39;49m\u001b[38;5;28;43;01mFalse\u001b[39;49;00m\u001b[43m,\u001b[49m\n\u001b[1;32m   1182\u001b[0m \u001b[43m\u001b[49m\u001b[43m)\u001b[49m\n",
      "File \u001b[0;32m/usr/local/Cellar/jupyterlab/3.4.8_1/libexec/lib/python3.11/site-packages/ipykernel/kernelbase.py:1219\u001b[0m, in \u001b[0;36mKernel._input_request\u001b[0;34m(self, prompt, ident, parent, password)\u001b[0m\n\u001b[1;32m   1216\u001b[0m             \u001b[38;5;28;01mbreak\u001b[39;00m\n\u001b[1;32m   1217\u001b[0m \u001b[38;5;28;01mexcept\u001b[39;00m \u001b[38;5;167;01mKeyboardInterrupt\u001b[39;00m:\n\u001b[1;32m   1218\u001b[0m     \u001b[38;5;66;03m# re-raise KeyboardInterrupt, to truncate traceback\u001b[39;00m\n\u001b[0;32m-> 1219\u001b[0m     \u001b[38;5;28;01mraise\u001b[39;00m \u001b[38;5;167;01mKeyboardInterrupt\u001b[39;00m(\u001b[38;5;124m\"\u001b[39m\u001b[38;5;124mInterrupted by user\u001b[39m\u001b[38;5;124m\"\u001b[39m) \u001b[38;5;28;01mfrom\u001b[39;00m \u001b[38;5;28mNone\u001b[39m\n\u001b[1;32m   1220\u001b[0m \u001b[38;5;28;01mexcept\u001b[39;00m \u001b[38;5;167;01mException\u001b[39;00m:\n\u001b[1;32m   1221\u001b[0m     \u001b[38;5;28mself\u001b[39m\u001b[38;5;241m.\u001b[39mlog\u001b[38;5;241m.\u001b[39mwarning(\u001b[38;5;124m\"\u001b[39m\u001b[38;5;124mInvalid Message:\u001b[39m\u001b[38;5;124m\"\u001b[39m, exc_info\u001b[38;5;241m=\u001b[39m\u001b[38;5;28;01mTrue\u001b[39;00m)\n",
      "\u001b[0;31mKeyboardInterrupt\u001b[0m: Interrupted by user"
     ]
    }
   ],
   "source": [
    "input_image_path = input('Path of the image to be predicted: ')\n",
    "\n",
    "input_image = cv2.imread(input_image_path)\n",
    "\n",
    "cv2_imshow(input_image)\n",
    "\n",
    "input_image_resized = cv2.resize(input_image, (128,128))\n",
    "\n",
    "input_image_scaled = input_image_resized/255\n",
    "\n",
    "input_image_reshaped = np.reshape(input_image_scaled, [1,128,128,3])\n",
    "\n",
    "input_prediction = model.predict(input_image_reshaped)\n",
    "\n",
    "print(input_prediction)\n",
    "\n",
    "\n",
    "input_pred_label = np.argmax(input_prediction)\n",
    "\n",
    "print(input_pred_label)\n",
    "\n",
    "\n",
    "if input_pred_label == 1:\n",
    "\n",
    "  print('The person in the image is wearing a mask')\n",
    "\n",
    "else:\n",
    "\n",
    "  print('The person in the image is not wearing a mask')"
   ]
  },
  {
   "cell_type": "code",
   "execution_count": null,
   "metadata": {
    "colab": {
     "base_uri": "https://localhost:8080/",
     "height": 384
    },
    "id": "x_Qw76_lDp0L",
    "outputId": "6101b208-42b0-48e0-da86-06433a8082f9"
   },
   "outputs": [],
   "source": [
    "input_image_path = input('Path of the image to be predicted: ')\n",
    "\n",
    "input_image = cv2.imread(input_image_path)\n",
    "\n",
    "cv2_imshow(input_image)\n",
    "\n",
    "input_image_resized = cv2.resize(input_image, (128,128))\n",
    "\n",
    "input_image_scaled = input_image_resized/255\n",
    "\n",
    "input_image_reshaped = np.reshape(input_image_scaled, [1,128,128,3])\n",
    "\n",
    "input_prediction = model.predict(input_image_reshaped)\n",
    "\n",
    "print(input_prediction)\n",
    "\n",
    "\n",
    "input_pred_label = np.argmax(input_prediction)\n",
    "\n",
    "print(input_pred_label)\n",
    "\n",
    "\n",
    "if input_pred_label == 1:\n",
    "\n",
    "  print('The person in the image is wearing a mask')\n",
    "\n",
    "else:\n",
    "\n",
    "  print('The person in the image is not wearing a mask')"
   ]
  },
  {
   "cell_type": "code",
   "execution_count": null,
   "metadata": {
    "id": "vWQO5TthD7mT"
   },
   "outputs": [],
   "source": []
  }
 ],
 "metadata": {
  "accelerator": "GPU",
  "colab": {
   "provenance": []
  },
  "gpuClass": "standard",
  "kernelspec": {
   "display_name": "Python 3 (ipykernel)",
   "language": "python",
   "name": "python3"
  },
  "language_info": {
   "codemirror_mode": {
    "name": "ipython",
    "version": 3
   },
   "file_extension": ".py",
   "mimetype": "text/x-python",
   "name": "python",
   "nbconvert_exporter": "python",
   "pygments_lexer": "ipython3",
   "version": "3.11.2"
  }
 },
 "nbformat": 4,
 "nbformat_minor": 1
}
